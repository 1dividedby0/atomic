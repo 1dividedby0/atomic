{
 "cells": [
  {
   "cell_type": "code",
   "execution_count": 1,
   "metadata": {},
   "outputs": [
    {
     "ename": "ModuleNotFoundError",
     "evalue": "No module named 'numpy'",
     "output_type": "error",
     "traceback": [
      "\u001b[0;31m---------------------------------------------------------------------------\u001b[0m",
      "\u001b[0;31mModuleNotFoundError\u001b[0m                       Traceback (most recent call last)",
      "\u001b[1;32m/Users/dhruvm/Documents/Applied Physics 203/magnetic_hamiltonian.ipynb Cell 1\u001b[0m line \u001b[0;36m1\n\u001b[0;32m----> <a href='vscode-notebook-cell:/Users/dhruvm/Documents/Applied%20Physics%20203/magnetic_hamiltonian.ipynb#W0sZmlsZQ%3D%3D?line=0'>1</a>\u001b[0m \u001b[39mimport\u001b[39;00m \u001b[39mnumpy\u001b[39;00m \u001b[39mas\u001b[39;00m \u001b[39mnp\u001b[39;00m\n\u001b[1;32m      <a href='vscode-notebook-cell:/Users/dhruvm/Documents/Applied%20Physics%20203/magnetic_hamiltonian.ipynb#W0sZmlsZQ%3D%3D?line=1'>2</a>\u001b[0m \u001b[39mfrom\u001b[39;00m \u001b[39mscipy\u001b[39;00m\u001b[39m.\u001b[39;00m\u001b[39mintegrate\u001b[39;00m \u001b[39mimport\u001b[39;00m odeint\n\u001b[1;32m      <a href='vscode-notebook-cell:/Users/dhruvm/Documents/Applied%20Physics%20203/magnetic_hamiltonian.ipynb#W0sZmlsZQ%3D%3D?line=3'>4</a>\u001b[0m b \u001b[39m=\u001b[39m [\u001b[39m2\u001b[39m\u001b[39m*\u001b[39mnp\u001b[39m.\u001b[39mpi, \u001b[39m2\u001b[39m\u001b[39m*\u001b[39mnp\u001b[39m.\u001b[39mpi\u001b[39m*\u001b[39m\u001b[39m0.3\u001b[39m, \u001b[39m2\u001b[39m\u001b[39m*\u001b[39mnp\u001b[39m.\u001b[39mpi\u001b[39m*\u001b[39m\u001b[39m0.1\u001b[39m]\n",
      "\u001b[0;31mModuleNotFoundError\u001b[0m: No module named 'numpy'"
     ]
    }
   ],
   "source": [
    "import numpy as np\n",
    "from scipy.integrate import odeint\n",
    "\n",
    "b = [2*np.pi, 2*np.pi*0.3, 2*np.pi*0.1]\n",
    "\n",
    "v0 = [0, 0, 1]\n",
    "\n",
    "def eom(x, y, z, t, b):\n",
    "    dxdt = -2*(b[1]*z - b[2]*y)\n",
    "    dydt = -2*(b[0]*z - b[2]*x)\n",
    "    dzdt = -2*(b[0]*y - b[1]*x)\n",
    "\n",
    "    return [dxdt, dydt, dzdt]\n",
    "\n",
    "t = np.linspace(0, 5*1E-6, 101)\n",
    "sol = odeint(eom, v0, t, args=(b))\n",
    "\n"
   ]
  },
  {
   "cell_type": "code",
   "execution_count": null,
   "metadata": {},
   "outputs": [],
   "source": [
    "import matplotlib.pyplot as plt\n",
    "\n",
    "plt.plot(t, sol[:, 0], 'b', label='theta(t)')\n",
    "plt.legend(loc='best')\n",
    "plt.xlabel('t')\n",
    "plt.show()"
   ]
  },
  {
   "cell_type": "code",
   "execution_count": null,
   "metadata": {},
   "outputs": [],
   "source": [
    "def eom(c1, c2, t, delta, rabi_f):\n",
    "    dc1dt = 1j * delta * c1 + 1j * rabi_f * c2\n",
    "    dc2dt = 1j * rabi_f * c2\n",
    "\n",
    "    return [dc1dt, dc2dt]\n",
    "\n",
    "t = np.linspace(0, 5*1E-6, 101)\n",
    "sol = odeint(eom, 1, 0, t, args=(0, 1))"
   ]
  },
  {
   "cell_type": "code",
   "execution_count": null,
   "metadata": {},
   "outputs": [],
   "source": [
    "import matplotlib.pyplot as plt\n",
    "\n",
    "plt.plot(t, sol[:, 0], 'b', label='theta(t)')\n",
    "plt.legend(loc='best')\n",
    "plt.xlabel('t')\n",
    "plt.show()"
   ]
  },
  {
   "cell_type": "code",
   "execution_count": 10,
   "metadata": {},
   "outputs": [
    {
     "ename": "error",
     "evalue": "Extra arguments must be in a tuple.",
     "output_type": "error",
     "traceback": [
      "\u001b[0;31m---------------------------------------------------------------------------\u001b[0m",
      "\u001b[0;31merror\u001b[0m                                     Traceback (most recent call last)",
      "\u001b[1;32m/Users/dhruvm/Documents/Applied Physics 203/magnetic_hamiltonian.ipynb Cell 5\u001b[0m line \u001b[0;36m1\n\u001b[1;32m     <a href='vscode-notebook-cell:/Users/dhruvm/Documents/Applied%20Physics%20203/magnetic_hamiltonian.ipynb#W4sZmlsZQ%3D%3D?line=12'>13</a>\u001b[0m delta0 \u001b[39m=\u001b[39m \u001b[39m-\u001b[39m\u001b[39m20\u001b[39m \u001b[39m*\u001b[39m rabi\n\u001b[1;32m     <a href='vscode-notebook-cell:/Users/dhruvm/Documents/Applied%20Physics%20203/magnetic_hamiltonian.ipynb#W4sZmlsZQ%3D%3D?line=13'>14</a>\u001b[0m t \u001b[39m=\u001b[39m np\u001b[39m.\u001b[39mlinspace(\u001b[39m0\u001b[39m, \u001b[39m5\u001b[39m\u001b[39m*\u001b[39m\u001b[39m1E-6\u001b[39m, \u001b[39m101\u001b[39m)\n\u001b[0;32m---> <a href='vscode-notebook-cell:/Users/dhruvm/Documents/Applied%20Physics%20203/magnetic_hamiltonian.ipynb#W4sZmlsZQ%3D%3D?line=14'>15</a>\u001b[0m sol \u001b[39m=\u001b[39m odeint(eom, [\u001b[39m0\u001b[39;49m, \u001b[39m1\u001b[39;49m], t, args\u001b[39m=\u001b[39;49m([r, delta0, rabi]))\n\u001b[1;32m     <a href='vscode-notebook-cell:/Users/dhruvm/Documents/Applied%20Physics%20203/magnetic_hamiltonian.ipynb#W4sZmlsZQ%3D%3D?line=16'>17</a>\u001b[0m plt\u001b[39m.\u001b[39mplot(t, sol[:, \u001b[39m0\u001b[39m], \u001b[39m'\u001b[39m\u001b[39mb\u001b[39m\u001b[39m'\u001b[39m, label\u001b[39m=\u001b[39m\u001b[39m'\u001b[39m\u001b[39mtheta(t)\u001b[39m\u001b[39m'\u001b[39m)\n\u001b[1;32m     <a href='vscode-notebook-cell:/Users/dhruvm/Documents/Applied%20Physics%20203/magnetic_hamiltonian.ipynb#W4sZmlsZQ%3D%3D?line=17'>18</a>\u001b[0m plt\u001b[39m.\u001b[39mlegend(loc\u001b[39m=\u001b[39m\u001b[39m'\u001b[39m\u001b[39mbest\u001b[39m\u001b[39m'\u001b[39m)\n",
      "File \u001b[0;32m~/Library/Python/3.9/lib/python/site-packages/scipy/integrate/_odepack_py.py:242\u001b[0m, in \u001b[0;36modeint\u001b[0;34m(func, y0, t, args, Dfun, col_deriv, full_output, ml, mu, rtol, atol, tcrit, h0, hmax, hmin, ixpr, mxstep, mxhnil, mxordn, mxords, printmessg, tfirst)\u001b[0m\n\u001b[1;32m    240\u001b[0m t \u001b[39m=\u001b[39m copy(t)\n\u001b[1;32m    241\u001b[0m y0 \u001b[39m=\u001b[39m copy(y0)\n\u001b[0;32m--> 242\u001b[0m output \u001b[39m=\u001b[39m _odepack\u001b[39m.\u001b[39;49modeint(func, y0, t, args, Dfun, col_deriv, ml, mu,\n\u001b[1;32m    243\u001b[0m                          full_output, rtol, atol, tcrit, h0, hmax, hmin,\n\u001b[1;32m    244\u001b[0m                          ixpr, mxstep, mxhnil, mxordn, mxords,\n\u001b[1;32m    245\u001b[0m                          \u001b[39mint\u001b[39;49m(\u001b[39mbool\u001b[39;49m(tfirst)))\n\u001b[1;32m    246\u001b[0m \u001b[39mif\u001b[39;00m output[\u001b[39m-\u001b[39m\u001b[39m1\u001b[39m] \u001b[39m<\u001b[39m \u001b[39m0\u001b[39m:\n\u001b[1;32m    247\u001b[0m     warning_msg \u001b[39m=\u001b[39m _msgs[output[\u001b[39m-\u001b[39m\u001b[39m1\u001b[39m]] \u001b[39m+\u001b[39m \u001b[39m\"\u001b[39m\u001b[39m Run with full_output = 1 to get quantitative information.\u001b[39m\u001b[39m\"\u001b[39m\n",
      "\u001b[0;31merror\u001b[0m: Extra arguments must be in a tuple."
     ]
    }
   ],
   "source": [
    "import numpy as np\n",
    "from scipy.integrate import odeint\n",
    "import matplotlib.pyplot as plt\n",
    "\n",
    "def eom(c1, c2, t, r, delta0, rabi):\n",
    "    dc1dt = -1j*((delta0 + r*t)*c1 + rabi*c2)\n",
    "    dc2dt = -1j*(rabi*c1)\n",
    "\n",
    "    return [dc1dt, dc2dt]\n",
    "\n",
    "r = 100\n",
    "rabi = 2*np.pi\n",
    "delta0 = -20 * rabi\n",
    "t = np.linspace(0, 5*1E-6, 101)\n",
    "sol = odeint(eom, [0, 1], t, args=([r, delta0, rabi]))\n",
    "\n",
    "plt.plot(t, sol[:, 0], 'b', label='theta(t)')\n",
    "plt.legend(loc='best')\n",
    "plt.xlabel('t')\n",
    "plt.show()"
   ]
  }
 ],
 "metadata": {
  "kernelspec": {
   "display_name": "Python 3",
   "language": "python",
   "name": "python3"
  },
  "language_info": {
   "codemirror_mode": {
    "name": "ipython",
    "version": 3
   },
   "file_extension": ".py",
   "mimetype": "text/x-python",
   "name": "python",
   "nbconvert_exporter": "python",
   "pygments_lexer": "ipython3",
   "version": "3.9.6"
  }
 },
 "nbformat": 4,
 "nbformat_minor": 2
}
